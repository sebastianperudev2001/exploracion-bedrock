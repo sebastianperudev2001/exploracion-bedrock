{
 "cells": [
  {
   "cell_type": "markdown",
   "metadata": {},
   "source": [
    "# This examples shows how to call the A2I AI21 Labs Jurassic-2 Mid model.\n",
    "\n",
    "https://docs.aws.amazon.com/bedrock/latest/userguide/model-parameters-jurassic2.html"
   ]
  },
  {
   "cell_type": "code",
   "execution_count": 8,
   "metadata": {},
   "outputs": [
    {
     "name": "stdout",
     "output_type": "stream",
     "text": [
      "\n",
      "When calling Amazon Bedrock models, the parameters can vary based on the specific model and use case. Some models may have fixed parameters, while others may have parameters that can be set by the user. Additionally, some models may have parameters that are learned or trained from data, and these can vary based on the specific dataset and problem being solved.\n"
     ]
    }
   ],
   "source": [
    "import boto3\n",
    "import json\n",
    "\n",
    "brt = boto3.Session(profile_name='sebas').client(service_name='bedrock-runtime')\n",
    "prompt = \"Translate to spanish: 'Amazon Bedrock is the easiest way to build and scale generative AI applications with base models (FMs)'.\"\n",
    "prompt = \"Are parameters always different when callling Amazon Bedrock models\"\n",
    "\n",
    "body = json.dumps({\n",
    "    \"prompt\": prompt, \n",
    "    \"maxTokens\": 200,\n",
    "    \"temperature\": 0.5,\n",
    "    \"topP\": 0.5\n",
    "})\n",
    "\n",
    "modelId = 'ai21.j2-mid-v1'\n",
    "accept = 'application/json'\n",
    "contentType = 'application/json'\n",
    "\n",
    "response = brt.invoke_model(\n",
    "    body=body, \n",
    "    modelId=modelId, \n",
    "    accept=accept, \n",
    "    contentType=contentType\n",
    ")\n",
    "\n",
    "response_body = json.loads(response.get('body').read())\n",
    "\n",
    "# text\n",
    "print(response_body.get('completions')[0].get('data').get('text'))"
   ]
  }
 ],
 "metadata": {
  "kernelspec": {
   "display_name": "Python 3",
   "language": "python",
   "name": "python3"
  },
  "language_info": {
   "codemirror_mode": {
    "name": "ipython",
    "version": 3
   },
   "file_extension": ".py",
   "mimetype": "text/x-python",
   "name": "python",
   "nbconvert_exporter": "python",
   "pygments_lexer": "ipython3",
   "version": "3.10.12"
  }
 },
 "nbformat": 4,
 "nbformat_minor": 2
}
