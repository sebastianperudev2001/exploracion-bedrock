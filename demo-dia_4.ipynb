{
 "cells": [
  {
   "cell_type": "markdown",
   "metadata": {},
   "source": [
    "# Día 04: Exploración Bedrock (parte 2)\n",
    "\n",
    "Tutorial: Building an AI chat app\n",
    "\n",
    "https://www.youtube.com/watch?v=E1-mUfpeRu0\n",
    "\n",
    "\n",
    "Probando Meta Llama 2 con Langchain"
   ]
  },
  {
   "cell_type": "code",
   "execution_count": 17,
   "metadata": {},
   "outputs": [],
   "source": [
    "from langchain.chains import LLMChain\n",
    "from langchain.llms.bedrock import Bedrock\n",
    "from langchain.memory import ConversationBufferMemory\n",
    "from langchain.prompts import PromptTemplate\n",
    "import boto3\n",
    "import os\n",
    "import streamlit as st\n"
   ]
  },
  {
   "cell_type": "code",
   "execution_count": 18,
   "metadata": {},
   "outputs": [],
   "source": [
    "os.environ['AWS_Profile'] = \"sebas\""
   ]
  },
  {
   "cell_type": "code",
   "execution_count": 58,
   "metadata": {},
   "outputs": [],
   "source": [
    "bedrock_client = boto3.Session(profile_name='sebas').client(\n",
    "    service_name = \"bedrock-runtime\",\n",
    "    region_name = \"us-east-1\"\n",
    ")\n",
    "\n",
    "\n",
    "modelID = \"meta.llama2-13b-chat-v1\"\n",
    "\n",
    "#lanchain --> Build Complex AI applications\n",
    "\n",
    "body = {\n",
    "    #\"temperature\": 0, #how random the response is\n",
    "    #\"top_p\": 0.9, #ignorear less probable options\n",
    "    \"max_gen_len\": 2048 #caracteres\n",
    "}\n",
    "\n",
    "llm = Bedrock(\n",
    "    model_id = modelID,\n",
    "    client = bedrock_client,\n",
    "    model_kwargs= body\n",
    "    \n",
    ")"
   ]
  },
  {
   "cell_type": "code",
   "execution_count": 59,
   "metadata": {},
   "outputs": [],
   "source": [
    "def my_chatbot(language, freeform_text): \n",
    "    prompt = PromptTemplate(\n",
    "        input_variables=['language', \"freeform_text\"],\n",
    "        template = f\"You are a chatbot. You are in {language} \\n\\n. {freeform_text}\"\n",
    "    )\n",
    "\n",
    "    bedrock_chain = LLMChain(llm=llm, prompt=prompt)\n",
    "    response = bedrock_chain({'language': language, 'freeform_text':freeform_text})\n",
    "    return response\n",
    "\n",
    "demo = my_chatbot(\"English\", \"Give me an example in Python on how to make a linked list\")"
   ]
  },
  {
   "cell_type": "code",
   "execution_count": 60,
   "metadata": {},
   "outputs": [],
   "source": [
    "with open('llmchain_response.txt', 'w') as file:\n",
    "    file.write(demo['text'])"
   ]
  }
 ],
 "metadata": {
  "kernelspec": {
   "display_name": "Python 3",
   "language": "python",
   "name": "python3"
  },
  "language_info": {
   "codemirror_mode": {
    "name": "ipython",
    "version": 3
   },
   "file_extension": ".py",
   "mimetype": "text/x-python",
   "name": "python",
   "nbconvert_exporter": "python",
   "pygments_lexer": "ipython3",
   "version": "3.10.12"
  }
 },
 "nbformat": 4,
 "nbformat_minor": 2
}
